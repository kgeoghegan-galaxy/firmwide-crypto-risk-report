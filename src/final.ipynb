{
 "cells": [
  {
   "cell_type": "code",
   "execution_count": 1,
   "metadata": {},
   "outputs": [
    {
     "name": "stdout",
     "output_type": "stream",
     "text": [
      "        Beimnet BTC Core BTC Delta  Beimnet BTC Options $ Delta  \\\n",
      "Values                1.134822e+07                 1.461724e+07   \n",
      "\n",
      "        Beimnet BTC Delta  Beimnet ETH Core ETH Delta  Beimnet ETH Delta  \\\n",
      "Values       2.596546e+07               -1.039035e+07      -1.039035e+07   \n",
      "\n",
      "        Beimnet Delta  Bouchra BTC Core BTC Delta  \\\n",
      "Values   1.557511e+07                1.178070e+07   \n",
      "\n",
      "        Bouchra BTC Options $ Delta  Bouchra BTC Delta  \\\n",
      "Values                 7.090302e+06       1.887100e+07   \n",
      "\n",
      "        Bouchra ETH Core ETH Delta  ...  GDLP ex-Novo ETH Delta  \\\n",
      "Values                2.356219e+06  ...            3.935608e+08   \n",
      "\n",
      "        GDLP ex-Novo SOL Delta  GDLP ex-Novo Alts Delta  GDLP ex-Novo Delta  \\\n",
      "Values           -9.940977e+07             1.189462e+09        6.412737e+09   \n",
      "\n",
      "        GDLP ex-Novo ex-Alts Delta  GDLP BTC Total Delta  \\\n",
      "Values                5.223275e+09          2.102558e+09   \n",
      "\n",
      "        GDLP ETH Total Delta  GDLP SOL Total Delta  GDLP Alts Total Delta  \\\n",
      "Values          7.704194e+08         -2.046305e+08           2.378923e+09   \n",
      "\n",
      "        GDLP Total Delta  \n",
      "Values      8.890982e+09  \n",
      "\n",
      "[1 rows x 45 columns]\n"
     ]
    }
   ],
   "source": [
    "import json\n",
    "from dependencies.handle_gre_data import HandleGREData\n",
    "\n",
    "# Define configuration\n",
    "config = {\n",
    "    'traders': ['Beimnet', 'Bouchra', 'Eduardo', 'Felman'],\n",
    "    'strategies': {\n",
    "        'BTC': ['Core BTC', 'Options $', 'RelativeValue BTC'],\n",
    "        'ETH': ['Core ETH', 'Options $', 'RelativeValue ETH'],\n",
    "        'SOL': ['Core SOL', 'Options $', 'RelativeValue SOL'],\n",
    "        'Alts': ['Core', 'Options', 'RelativeValue']\n",
    "    }\n",
    "}\n",
    "\n",
    "# Create a DeltaProcessor instance\n",
    "processor = HandleGREData(config)\n",
    "\n",
    "# Process the CSV file\n",
    "csv_filepath = '../data/GDLP GRE Data 23072024.csv'\n",
    "final_df = processor.process_csv(csv_filepath)\n",
    "\n",
    "# Save the results\n",
    "final_df.to_csv('../output/23072024.csv', index=False)\n",
    "final_df.to_excel('../output/23072024.xlsx', index=False)\n",
    "print(final_df)\n"
   ]
  }
 ],
 "metadata": {
  "kernelspec": {
   "display_name": "myenv",
   "language": "python",
   "name": "python3"
  },
  "language_info": {
   "codemirror_mode": {
    "name": "ipython",
    "version": 3
   },
   "file_extension": ".py",
   "mimetype": "text/x-python",
   "name": "python",
   "nbconvert_exporter": "python",
   "pygments_lexer": "ipython3",
   "version": "3.10.12"
  }
 },
 "nbformat": 4,
 "nbformat_minor": 2
}
