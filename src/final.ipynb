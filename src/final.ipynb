{
 "cells": [
  {
   "cell_type": "code",
   "execution_count": null,
   "metadata": {},
   "outputs": [],
   "source": [
    "from dependencies.firmwide_risk_report_email import create_widgets_and_run_report"
   ]
  },
  {
   "cell_type": "code",
   "execution_count": null,
   "metadata": {},
   "outputs": [],
   "source": [
    "gdlp_path = '/'"
   ]
  },
  {
   "cell_type": "code",
   "execution_count": null,
   "metadata": {},
   "outputs": [],
   "source": [
    "# This is the relative path from where these scripts are being executed to the directory containing GRE data\n",
    "gdlp_data = \"/mnt/box/kgeoghegan/Dev/gre-data/GDLP GRE Data 19072024.csv\"\n",
    "# This is the relative path to where updated derivs' data (pulled from databricks) is being stored. Currently put in directory manually.\n",
    "derivs_data = \"/mnt/box/KGeoghegan/Dev/derivs-data/GDT Derivs ex GDLP Opts Timeseries 2024-07-19.csv\"\n",
    "\n",
    "# Input who you would like to send this report to. \n",
    "recipient_emails = [\"kiernan.geoghegan@galaxy.com\"]\n",
    "\n",
    "create_widgets_and_run_report(gdlp_data, derivs_data, recipient_emails)"
   ]
  }
 ],
 "metadata": {
  "language_info": {
   "name": "python"
  }
 },
 "nbformat": 4,
 "nbformat_minor": 2
}
